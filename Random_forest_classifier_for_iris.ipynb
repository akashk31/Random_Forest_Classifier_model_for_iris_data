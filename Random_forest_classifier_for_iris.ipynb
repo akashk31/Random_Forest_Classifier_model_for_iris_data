{
 "cells": [
  {
   "cell_type": "code",
   "execution_count": 1,
   "metadata": {},
   "outputs": [],
   "source": [
    "from sklearn.model_selection import train_test_split\n",
    "from sklearn.metrics import accuracy_score\n",
    "from sklearn.metrics import confusion_matrix\n",
    "from sklearn.ensemble import RandomForestClassifier"
   ]
  },
  {
   "cell_type": "code",
   "execution_count": 2,
   "metadata": {},
   "outputs": [],
   "source": [
    "import numpy as np\n",
    "import pandas as pd"
   ]
  },
  {
   "cell_type": "code",
   "execution_count": 3,
   "metadata": {},
   "outputs": [],
   "source": [
    "from sklearn.datasets import load_iris"
   ]
  },
  {
   "cell_type": "code",
   "execution_count": 4,
   "metadata": {},
   "outputs": [],
   "source": [
    "iris=load_iris()"
   ]
  },
  {
   "cell_type": "code",
   "execution_count": 5,
   "metadata": {},
   "outputs": [
    {
     "data": {
      "text/html": [
       "<div>\n",
       "<style scoped>\n",
       "    .dataframe tbody tr th:only-of-type {\n",
       "        vertical-align: middle;\n",
       "    }\n",
       "\n",
       "    .dataframe tbody tr th {\n",
       "        vertical-align: top;\n",
       "    }\n",
       "\n",
       "    .dataframe thead th {\n",
       "        text-align: right;\n",
       "    }\n",
       "</style>\n",
       "<table border=\"1\" class=\"dataframe\">\n",
       "  <thead>\n",
       "    <tr style=\"text-align: right;\">\n",
       "      <th></th>\n",
       "      <th>sepal length (cm)</th>\n",
       "      <th>sepal width (cm)</th>\n",
       "      <th>petal length (cm)</th>\n",
       "      <th>petal width (cm)</th>\n",
       "    </tr>\n",
       "  </thead>\n",
       "  <tbody>\n",
       "    <tr>\n",
       "      <th>0</th>\n",
       "      <td>5.1</td>\n",
       "      <td>3.5</td>\n",
       "      <td>1.4</td>\n",
       "      <td>0.2</td>\n",
       "    </tr>\n",
       "    <tr>\n",
       "      <th>1</th>\n",
       "      <td>4.9</td>\n",
       "      <td>3.0</td>\n",
       "      <td>1.4</td>\n",
       "      <td>0.2</td>\n",
       "    </tr>\n",
       "    <tr>\n",
       "      <th>2</th>\n",
       "      <td>4.7</td>\n",
       "      <td>3.2</td>\n",
       "      <td>1.3</td>\n",
       "      <td>0.2</td>\n",
       "    </tr>\n",
       "    <tr>\n",
       "      <th>3</th>\n",
       "      <td>4.6</td>\n",
       "      <td>3.1</td>\n",
       "      <td>1.5</td>\n",
       "      <td>0.2</td>\n",
       "    </tr>\n",
       "    <tr>\n",
       "      <th>4</th>\n",
       "      <td>5.0</td>\n",
       "      <td>3.6</td>\n",
       "      <td>1.4</td>\n",
       "      <td>0.2</td>\n",
       "    </tr>\n",
       "  </tbody>\n",
       "</table>\n",
       "</div>"
      ],
      "text/plain": [
       "   sepal length (cm)  sepal width (cm)  petal length (cm)  petal width (cm)\n",
       "0                5.1               3.5                1.4               0.2\n",
       "1                4.9               3.0                1.4               0.2\n",
       "2                4.7               3.2                1.3               0.2\n",
       "3                4.6               3.1                1.5               0.2\n",
       "4                5.0               3.6                1.4               0.2"
      ]
     },
     "execution_count": 5,
     "metadata": {},
     "output_type": "execute_result"
    }
   ],
   "source": [
    "X=pd.DataFrame(iris.data,columns=iris.feature_names)\n",
    "X.head(5)"
   ]
  },
  {
   "cell_type": "code",
   "execution_count": 6,
   "metadata": {},
   "outputs": [],
   "source": [
    "y=pd.Categorical.from_codes(iris.target,iris.target_names)\n",
    "y=pd.get_dummies(y)"
   ]
  },
  {
   "cell_type": "code",
   "execution_count": 7,
   "metadata": {},
   "outputs": [],
   "source": [
    "#spliting our data in training set and testing set\n",
    "X_train, X_test, y_train, y_test = train_test_split(X, y, random_state=1)"
   ]
  },
  {
   "cell_type": "code",
   "execution_count": 8,
   "metadata": {},
   "outputs": [
    {
     "data": {
      "text/plain": [
       "(     sepal length (cm)  sepal width (cm)  petal length (cm)  petal width (cm)\n",
       " 54                 6.5               2.8                4.6               1.5\n",
       " 108                6.7               2.5                5.8               1.8\n",
       " 112                6.8               3.0                5.5               2.1\n",
       " 17                 5.1               3.5                1.4               0.3\n",
       " 119                6.0               2.2                5.0               1.5\n",
       " 103                6.3               2.9                5.6               1.8\n",
       " 58                 6.6               2.9                4.6               1.3\n",
       " 118                7.7               2.6                6.9               2.3\n",
       " 18                 5.7               3.8                1.7               0.3\n",
       " 4                  5.0               3.6                1.4               0.2\n",
       " 45                 4.8               3.0                1.4               0.3\n",
       " 59                 5.2               2.7                3.9               1.4\n",
       " 39                 5.1               3.4                1.5               0.2\n",
       " 36                 5.5               3.5                1.3               0.2\n",
       " 117                7.7               3.8                6.7               2.2\n",
       " 139                6.9               3.1                5.4               2.1\n",
       " 107                7.3               2.9                6.3               1.8\n",
       " 132                6.4               2.8                5.6               2.2\n",
       " 126                6.2               2.8                4.8               1.8\n",
       " 85                 6.0               3.4                4.5               1.6\n",
       " 122                7.7               2.8                6.7               2.0\n",
       " 95                 5.7               3.0                4.2               1.2\n",
       " 11                 4.8               3.4                1.6               0.2\n",
       " 113                5.7               2.5                5.0               2.0\n",
       " 123                6.3               2.7                4.9               1.8\n",
       " 12                 4.8               3.0                1.4               0.1\n",
       " 2                  4.7               3.2                1.3               0.2\n",
       " 104                6.5               3.0                5.8               2.2\n",
       " 6                  4.6               3.4                1.4               0.3\n",
       " 127                6.1               3.0                4.9               1.8\n",
       " ..                 ...               ...                ...               ...\n",
       " 47                 4.6               3.2                1.4               0.2\n",
       " 115                6.4               3.2                5.3               2.3\n",
       " 13                 4.3               3.0                1.1               0.1\n",
       " 88                 5.6               3.0                4.1               1.3\n",
       " 8                  4.4               2.9                1.4               0.2\n",
       " 81                 5.5               2.4                3.7               1.0\n",
       " 60                 5.0               2.0                3.5               1.0\n",
       " 0                  5.1               3.5                1.4               0.2\n",
       " 1                  4.9               3.0                1.4               0.2\n",
       " 57                 4.9               2.4                3.3               1.0\n",
       " 22                 4.6               3.6                1.0               0.2\n",
       " 61                 5.9               3.0                4.2               1.5\n",
       " 63                 6.1               2.9                4.7               1.4\n",
       " 7                  5.0               3.4                1.5               0.2\n",
       " 86                 6.7               3.1                4.7               1.5\n",
       " 96                 5.7               2.9                4.2               1.3\n",
       " 68                 6.2               2.2                4.5               1.5\n",
       " 50                 7.0               3.2                4.7               1.4\n",
       " 101                5.8               2.7                5.1               1.9\n",
       " 20                 5.4               3.4                1.7               0.2\n",
       " 25                 5.0               3.0                1.6               0.2\n",
       " 134                6.1               2.6                5.6               1.4\n",
       " 71                 6.1               2.8                4.0               1.3\n",
       " 129                7.2               3.0                5.8               1.6\n",
       " 79                 5.7               2.6                3.5               1.0\n",
       " 133                6.3               2.8                5.1               1.5\n",
       " 137                6.4               3.1                5.5               1.8\n",
       " 72                 6.3               2.5                4.9               1.5\n",
       " 140                6.7               3.1                5.6               2.4\n",
       " 37                 4.9               3.6                1.4               0.1\n",
       " \n",
       " [112 rows x 4 columns],      setosa  versicolor  virginica\n",
       " 54        0           1          0\n",
       " 108       0           0          1\n",
       " 112       0           0          1\n",
       " 17        1           0          0\n",
       " 119       0           0          1\n",
       " 103       0           0          1\n",
       " 58        0           1          0\n",
       " 118       0           0          1\n",
       " 18        1           0          0\n",
       " 4         1           0          0\n",
       " 45        1           0          0\n",
       " 59        0           1          0\n",
       " 39        1           0          0\n",
       " 36        1           0          0\n",
       " 117       0           0          1\n",
       " 139       0           0          1\n",
       " 107       0           0          1\n",
       " 132       0           0          1\n",
       " 126       0           0          1\n",
       " 85        0           1          0\n",
       " 122       0           0          1\n",
       " 95        0           1          0\n",
       " 11        1           0          0\n",
       " 113       0           0          1\n",
       " 123       0           0          1\n",
       " 12        1           0          0\n",
       " 2         1           0          0\n",
       " 104       0           0          1\n",
       " 6         1           0          0\n",
       " 127       0           0          1\n",
       " ..      ...         ...        ...\n",
       " 47        1           0          0\n",
       " 115       0           0          1\n",
       " 13        1           0          0\n",
       " 88        0           1          0\n",
       " 8         1           0          0\n",
       " 81        0           1          0\n",
       " 60        0           1          0\n",
       " 0         1           0          0\n",
       " 1         1           0          0\n",
       " 57        0           1          0\n",
       " 22        1           0          0\n",
       " 61        0           1          0\n",
       " 63        0           1          0\n",
       " 7         1           0          0\n",
       " 86        0           1          0\n",
       " 96        0           1          0\n",
       " 68        0           1          0\n",
       " 50        0           1          0\n",
       " 101       0           0          1\n",
       " 20        1           0          0\n",
       " 25        1           0          0\n",
       " 134       0           0          1\n",
       " 71        0           1          0\n",
       " 129       0           0          1\n",
       " 79        0           1          0\n",
       " 133       0           0          1\n",
       " 137       0           0          1\n",
       " 72        0           1          0\n",
       " 140       0           0          1\n",
       " 37        1           0          0\n",
       " \n",
       " [112 rows x 3 columns])"
      ]
     },
     "execution_count": 8,
     "metadata": {},
     "output_type": "execute_result"
    }
   ],
   "source": [
    "X_train,y_train"
   ]
  },
  {
   "cell_type": "code",
   "execution_count": 9,
   "metadata": {},
   "outputs": [
    {
     "data": {
      "text/plain": [
       "(     sepal length (cm)  sepal width (cm)  petal length (cm)  petal width (cm)\n",
       " 14                 5.8               4.0                1.2               0.2\n",
       " 98                 5.1               2.5                3.0               1.1\n",
       " 75                 6.6               3.0                4.4               1.4\n",
       " 16                 5.4               3.9                1.3               0.4\n",
       " 131                7.9               3.8                6.4               2.0\n",
       " 56                 6.3               3.3                4.7               1.6\n",
       " 141                6.9               3.1                5.1               2.3\n",
       " 44                 5.1               3.8                1.9               0.4\n",
       " 29                 4.7               3.2                1.6               0.2\n",
       " 120                6.9               3.2                5.7               2.3\n",
       " 94                 5.6               2.7                4.2               1.3\n",
       " 5                  5.4               3.9                1.7               0.4\n",
       " 102                7.1               3.0                5.9               2.1\n",
       " 51                 6.4               3.2                4.5               1.5\n",
       " 78                 6.0               2.9                4.5               1.5\n",
       " 42                 4.4               3.2                1.3               0.2\n",
       " 92                 5.8               2.6                4.0               1.2\n",
       " 66                 5.6               3.0                4.5               1.5\n",
       " 31                 5.4               3.4                1.5               0.4\n",
       " 35                 5.0               3.2                1.2               0.2\n",
       " 90                 5.5               2.6                4.4               1.2\n",
       " 84                 5.4               3.0                4.5               1.5\n",
       " 77                 6.7               3.0                5.0               1.7\n",
       " 40                 5.0               3.5                1.3               0.3\n",
       " 125                7.2               3.2                6.0               1.8\n",
       " 99                 5.7               2.8                4.1               1.3\n",
       " 33                 5.5               4.2                1.4               0.2\n",
       " 19                 5.1               3.8                1.5               0.3\n",
       " 73                 6.1               2.8                4.7               1.2\n",
       " 146                6.3               2.5                5.0               1.9\n",
       " 91                 6.1               3.0                4.6               1.4\n",
       " 135                7.7               3.0                6.1               2.3\n",
       " 69                 5.6               2.5                3.9               1.1\n",
       " 128                6.4               2.8                5.6               2.1\n",
       " 114                5.8               2.8                5.1               2.4\n",
       " 48                 5.3               3.7                1.5               0.2\n",
       " 53                 5.5               2.3                4.0               1.3\n",
       " 28                 5.2               3.4                1.4               0.2,\n",
       "      setosa  versicolor  virginica\n",
       " 14        1           0          0\n",
       " 98        0           1          0\n",
       " 75        0           1          0\n",
       " 16        1           0          0\n",
       " 131       0           0          1\n",
       " 56        0           1          0\n",
       " 141       0           0          1\n",
       " 44        1           0          0\n",
       " 29        1           0          0\n",
       " 120       0           0          1\n",
       " 94        0           1          0\n",
       " 5         1           0          0\n",
       " 102       0           0          1\n",
       " 51        0           1          0\n",
       " 78        0           1          0\n",
       " 42        1           0          0\n",
       " 92        0           1          0\n",
       " 66        0           1          0\n",
       " 31        1           0          0\n",
       " 35        1           0          0\n",
       " 90        0           1          0\n",
       " 84        0           1          0\n",
       " 77        0           1          0\n",
       " 40        1           0          0\n",
       " 125       0           0          1\n",
       " 99        0           1          0\n",
       " 33        1           0          0\n",
       " 19        1           0          0\n",
       " 73        0           1          0\n",
       " 146       0           0          1\n",
       " 91        0           1          0\n",
       " 135       0           0          1\n",
       " 69        0           1          0\n",
       " 128       0           0          1\n",
       " 114       0           0          1\n",
       " 48        1           0          0\n",
       " 53        0           1          0\n",
       " 28        1           0          0)"
      ]
     },
     "execution_count": 9,
     "metadata": {},
     "output_type": "execute_result"
    }
   ],
   "source": [
    "X_test,y_test"
   ]
  },
  {
   "cell_type": "code",
   "execution_count": 10,
   "metadata": {},
   "outputs": [
    {
     "name": "stderr",
     "output_type": "stream",
     "text": [
      "C:\\Users\\dell\\Anaconda3\\lib\\site-packages\\sklearn\\ensemble\\forest.py:245: FutureWarning: The default value of n_estimators will change from 10 in version 0.20 to 100 in 0.22.\n",
      "  \"10 in version 0.20 to 100 in 0.22.\", FutureWarning)\n"
     ]
    },
    {
     "data": {
      "text/plain": [
       "RandomForestClassifier(bootstrap=True, class_weight=None, criterion='gini',\n",
       "                       max_depth=None, max_features='auto', max_leaf_nodes=None,\n",
       "                       min_impurity_decrease=0.0, min_impurity_split=None,\n",
       "                       min_samples_leaf=1, min_samples_split=2,\n",
       "                       min_weight_fraction_leaf=0.0, n_estimators=10,\n",
       "                       n_jobs=None, oob_score=False, random_state=None,\n",
       "                       verbose=0, warm_start=False)"
      ]
     },
     "execution_count": 10,
     "metadata": {},
     "output_type": "execute_result"
    }
   ],
   "source": [
    "#training our data by using Random forest Classifier\n",
    "model = RandomForestClassifier()\n",
    "model.fit(X_train, y_train)"
   ]
  },
  {
   "cell_type": "code",
   "execution_count": 11,
   "metadata": {},
   "outputs": [],
   "source": [
    "#predicting the values by using testing set\n",
    "y_pred = model.predict(X_test)"
   ]
  },
  {
   "cell_type": "code",
   "execution_count": 12,
   "metadata": {},
   "outputs": [
    {
     "data": {
      "text/plain": [
       "array([[13,  0,  0],\n",
       "       [ 0, 15,  1],\n",
       "       [ 0,  0,  9]], dtype=int64)"
      ]
     },
     "execution_count": 12,
     "metadata": {},
     "output_type": "execute_result"
    }
   ],
   "source": [
    "#calculating the confusion matrix\n",
    "species = np.array(y_test).argmax(axis=1)\n",
    "predictions = np.array(y_pred).argmax(axis=1)\n",
    "confusion_matrix(species, predictions)"
   ]
  },
  {
   "cell_type": "code",
   "execution_count": 13,
   "metadata": {},
   "outputs": [
    {
     "data": {
      "text/plain": [
       "0.9736842105263158"
      ]
     },
     "execution_count": 13,
     "metadata": {},
     "output_type": "execute_result"
    }
   ],
   "source": [
    "#calculating the accuracy\n",
    "acc=accuracy_score(y_test,y_pred)\n",
    "acc"
   ]
  },
  {
   "cell_type": "code",
   "execution_count": null,
   "metadata": {},
   "outputs": [],
   "source": []
  },
  {
   "cell_type": "code",
   "execution_count": null,
   "metadata": {},
   "outputs": [],
   "source": []
  },
  {
   "cell_type": "code",
   "execution_count": null,
   "metadata": {},
   "outputs": [],
   "source": []
  },
  {
   "cell_type": "code",
   "execution_count": null,
   "metadata": {},
   "outputs": [],
   "source": []
  },
  {
   "cell_type": "code",
   "execution_count": null,
   "metadata": {},
   "outputs": [],
   "source": []
  }
 ],
 "metadata": {
  "kernelspec": {
   "display_name": "Python 3",
   "language": "python",
   "name": "python3"
  },
  "language_info": {
   "codemirror_mode": {
    "name": "ipython",
    "version": 3
   },
   "file_extension": ".py",
   "mimetype": "text/x-python",
   "name": "python",
   "nbconvert_exporter": "python",
   "pygments_lexer": "ipython3",
   "version": "3.7.3"
  }
 },
 "nbformat": 4,
 "nbformat_minor": 2
}
